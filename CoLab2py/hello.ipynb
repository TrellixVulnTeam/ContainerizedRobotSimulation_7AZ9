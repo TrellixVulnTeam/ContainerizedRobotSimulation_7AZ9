{
  "nbformat": 4,
  "nbformat_minor": 0,
  "metadata": {
    "colab": {
      "name": "hello.ipynb",
      "provenance": []
    },
    "kernelspec": {
      "name": "python3",
      "display_name": "Python 3"
    }
  },
  "cells": [
    {
      "cell_type": "code",
      "metadata": {
        "colab": {
          "base_uri": "https://localhost:8080/"
        },
        "id": "fNGutwb8KMt-",
        "outputId": "cf33e6d6-ca78-4e76-865e-9cec3bf5977c"
      },
      "source": [
        "import IPython\n",
        "print(IPython.__version__)"
      ],
      "execution_count": 1,
      "outputs": [
        {
          "output_type": "stream",
          "text": [
            "5.5.0\n"
          ],
          "name": "stdout"
        }
      ]
    }
  ]
}